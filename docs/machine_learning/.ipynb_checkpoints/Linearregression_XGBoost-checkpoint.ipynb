{
 "cells": [
  {
   "cell_type": "markdown",
   "id": "71d42a7c-deec-4c37-8127-6b951248090f",
   "metadata": {},
   "source": [
    "# Validação do modelo de machine learning para aplicação nos Guardioes da Saude para match com síndrome gripal. \n",
    "\n",
    "Dados obtidos dos dados abertos do e-sus no [site](https://opendatasus.saude.gov.br/gl/dataset/casos-nacionais). Nesse arquivo foram treinados Um modelo de regressão linear múltipla e uma classificador do xgboost. \n"
   ]
  },
  {
   "cell_type": "code",
   "execution_count": 1,
   "id": "7d3f5b09-7d14-4308-a990-d87ede613735",
   "metadata": {},
   "outputs": [],
   "source": [
    "# Bibliotecas a serem importadas.\n",
    "import numpy as np\n",
    "import pandas as pd\n",
    "from sklearn.preprocessing import LabelEncoder, StandardScaler\n",
    "from sklearn.impute import SimpleImputer\n",
    "from sklearn.model_selection import train_test_split\n",
    "from sklearn.metrics import accuracy_score, plot_confusion_matrix\n",
    "import matplotlib.pyplot as plt\n",
    "import xgboost as xgb\n",
    "import seaborn as sns\n",
    "import scikitplot as skplt\n",
    "from imblearn.over_sampling import RandomOverSampler\n",
    "import glob, os\n",
    "from tqdm.notebook import tqdm_notebook\n",
    "import time\n",
    "\n",
    "tqdm_notebook.pandas()"
   ]
  },
  {
   "cell_type": "markdown",
   "id": "00fc26ef-e27a-4259-b658-7374cfa9a226",
   "metadata": {},
   "source": [
    "### Leitura dos arquivos .csv\n",
    "\n",
    "Aqui é onde é lido so dados em .csv na pasta /data. Esses dados ja estão pré-tratados. Há também uma função que realiza esse pré-tratamento removendo algumas colunas que não serão usadas e para economizar processamento e memória foi utilizada essa abordagem."
   ]
  },
  {
   "cell_type": "code",
   "execution_count": 2,
   "id": "d2d71003-c207-43ff-8af5-0e639237cdaf",
   "metadata": {},
   "outputs": [
    {
     "name": "stderr",
     "output_type": "stream",
     "text": [
      "/tmp/ipykernel_31102/3984688647.py:3: DeprecationWarning: The default dtype for empty Series will be 'object' instead of 'float64' in a future version. Specify a dtype explicitly to silence this warning.\n",
      "  baseDados = pd.Series()\n"
     ]
    },
    {
     "data": {
      "application/vnd.jupyter.widget-view+json": {
       "model_id": "0ab4aaf934e8421abc2b3ecd38ce203a",
       "version_major": 2,
       "version_minor": 0
      },
      "text/plain": [
       "  0%|          | 0/20 [00:00<?, ?it/s]"
      ]
     },
     "metadata": {},
     "output_type": "display_data"
    },
    {
     "data": {
      "text/html": [
       "<div>\n",
       "<style scoped>\n",
       "    .dataframe tbody tr th:only-of-type {\n",
       "        vertical-align: middle;\n",
       "    }\n",
       "\n",
       "    .dataframe tbody tr th {\n",
       "        vertical-align: top;\n",
       "    }\n",
       "\n",
       "    .dataframe thead th {\n",
       "        text-align: right;\n",
       "    }\n",
       "</style>\n",
       "<table border=\"1\" class=\"dataframe\">\n",
       "  <thead>\n",
       "    <tr style=\"text-align: right;\">\n",
       "      <th></th>\n",
       "      <th>0</th>\n",
       "      <th>Unnamed: 0</th>\n",
       "      <th>condicoes</th>\n",
       "      <th>idade</th>\n",
       "      <th>resultadoTeste</th>\n",
       "      <th>sexo</th>\n",
       "      <th>sintomas</th>\n",
       "      <th>Ã¿id</th>\n",
       "    </tr>\n",
       "  </thead>\n",
       "  <tbody>\n",
       "    <tr>\n",
       "      <th>0</th>\n",
       "      <td>NaN</td>\n",
       "      <td>0.0</td>\n",
       "      <td>NaN</td>\n",
       "      <td>73.0</td>\n",
       "      <td>NaN</td>\n",
       "      <td>Feminino</td>\n",
       "      <td>Outros</td>\n",
       "      <td>N1wIAd08lL</td>\n",
       "    </tr>\n",
       "    <tr>\n",
       "      <th>1</th>\n",
       "      <td>NaN</td>\n",
       "      <td>1.0</td>\n",
       "      <td>NaN</td>\n",
       "      <td>36.0</td>\n",
       "      <td>Positivo</td>\n",
       "      <td>Masculino</td>\n",
       "      <td>Febre, Dor de Garganta, Outros</td>\n",
       "      <td>QW8RQcjzLD</td>\n",
       "    </tr>\n",
       "    <tr>\n",
       "      <th>2</th>\n",
       "      <td>NaN</td>\n",
       "      <td>2.0</td>\n",
       "      <td>NaN</td>\n",
       "      <td>34.0</td>\n",
       "      <td>Negativo</td>\n",
       "      <td>Feminino</td>\n",
       "      <td>Tosse</td>\n",
       "      <td>8FNnth9ADm</td>\n",
       "    </tr>\n",
       "    <tr>\n",
       "      <th>3</th>\n",
       "      <td>NaN</td>\n",
       "      <td>3.0</td>\n",
       "      <td>NaN</td>\n",
       "      <td>20.0</td>\n",
       "      <td>Positivo</td>\n",
       "      <td>Masculino</td>\n",
       "      <td>Tosse, Febre, Dor de Garganta, Outros</td>\n",
       "      <td>EzdQ9dZQD7</td>\n",
       "    </tr>\n",
       "    <tr>\n",
       "      <th>4</th>\n",
       "      <td>NaN</td>\n",
       "      <td>4.0</td>\n",
       "      <td>NaN</td>\n",
       "      <td>32.0</td>\n",
       "      <td>Negativo</td>\n",
       "      <td>Feminino</td>\n",
       "      <td>Outros</td>\n",
       "      <td>b3ZXuX9rRs</td>\n",
       "    </tr>\n",
       "  </tbody>\n",
       "</table>\n",
       "</div>"
      ],
      "text/plain": [
       "    0  Unnamed: 0 condicoes  idade resultadoTeste       sexo  \\\n",
       "0 NaN         0.0       NaN   73.0            NaN   Feminino   \n",
       "1 NaN         1.0       NaN   36.0       Positivo  Masculino   \n",
       "2 NaN         2.0       NaN   34.0       Negativo   Feminino   \n",
       "3 NaN         3.0       NaN   20.0       Positivo  Masculino   \n",
       "4 NaN         4.0       NaN   32.0       Negativo   Feminino   \n",
       "\n",
       "                                sintomas        Ã¿id  \n",
       "0                                 Outros  N1wIAd08lL  \n",
       "1         Febre, Dor de Garganta, Outros  QW8RQcjzLD  \n",
       "2                                  Tosse  8FNnth9ADm  \n",
       "3  Tosse, Febre, Dor de Garganta, Outros  EzdQ9dZQD7  \n",
       "4                                 Outros  b3ZXuX9rRs  "
      ]
     },
     "execution_count": 2,
     "metadata": {},
     "output_type": "execute_result"
    }
   ],
   "source": [
    "# Diminuindo tamanhos dos arquivos\n",
    "\n",
    "baseDados = pd.Series()\n",
    "def read_from_data_covid():\n",
    "    all_files = glob.glob('./data-covid' + '/*.csv')\n",
    "\n",
    "    li = [] \n",
    "\n",
    "    for file in tqdm_notebook(all_files):\n",
    "        df = pd.read_csv(file, delimiter=';', encoding='latin-1')\n",
    "        df = df.drop([\n",
    "        'dataNotificacao',\n",
    "        'dataTeste',\n",
    "        'tipoTeste',\n",
    "        'dataEncerramento',\n",
    "        'evolucaoCaso',\n",
    "        'classificacaoFinal',\n",
    "        'estadoNotificacaoIBGE',\n",
    "        'municipioIBGE',\n",
    "        'cbo',\n",
    "        'municipioNotificacaoIBGE',\n",
    "        'estadoIBGE',\n",
    "        'estadoTeste',\n",
    "        'paisOrigem',\n",
    "        'origem',\n",
    "        'estadoNotificacao',\n",
    "        'municipioNotificacao',\n",
    "        'excluido', \n",
    "        'validado',\n",
    "        'dataInicioSintomas',\n",
    "        'profissionalSaude',\n",
    "        'dataNascimento',\n",
    "        'estado',\n",
    "        'municipio'\n",
    "        ], axis=1)\n",
    "        df.to_csv(file, sep=';', encoding='utf-8')\n",
    "        print(file)\n",
    "    \n",
    "\n",
    "all_files = glob.glob('./data' + '/*.csv')\n",
    "\n",
    "for file in tqdm_notebook(all_files):\n",
    "    df = pd.read_csv(file, delimiter=';', encoding='latin-1')\n",
    "    baseDados = pd.concat([baseDados, df], ignore_index=True)\n",
    "\n",
    "baseDados.head()"
   ]
  },
  {
   "cell_type": "markdown",
   "id": "8aba46bb-3a6e-4860-a1e9-f456bebfd340",
   "metadata": {},
   "source": [
    "### Removendo linhas em que a string na coluna 'resultadoTeste' é inválido. \n",
    "\n",
    "\n",
    "Como esse campo é importante (conjunto de saída do modelo), então foi filtrado apenas os dados em que essa coluna possui um valor válido. \n",
    "\n",
    "### Criando colunas para sintomas. \n",
    "\n",
    "Após essa remoção foi elaborado uma maneira de tranformar a lista de sintomas de cada dado em várias colunas que tem como conjunto de valores {1, 0}. Assim o modelo conseguirá entender essas variáveis e permitirá o treinamento. Há varios sintomas e por isso foi testado algumas listas de sintomas para serem usados. Para cada sintoma foi definido uma string de busca para conseguir detectar a ocorrência do sintoma no dado. "
   ]
  },
  {
   "cell_type": "code",
   "execution_count": 3,
   "id": "4c8db5e8-13fa-4b8d-908c-3574021b6fb1",
   "metadata": {},
   "outputs": [
    {
     "data": {
      "text/plain": [
       "Index([               0,     'Unnamed: 0',      'condicoes',          'idade',\n",
       "       'resultadoTeste',           'sexo',       'sintomas',           'Ã¿id'],\n",
       "      dtype='object')"
      ]
     },
     "execution_count": 3,
     "metadata": {},
     "output_type": "execute_result"
    }
   ],
   "source": [
    "# Removendo linhas em que o resultado é invalido.\n",
    "\n",
    "mask = (baseDados['resultadoTeste'] != 'Negativo') & (baseDados['resultadoTeste'] != 'Positivo')\n",
    "baseDados = baseDados.loc[~mask]\n",
    "\n",
    "\n",
    "baseDados.columns"
   ]
  },
  {
   "cell_type": "code",
   "execution_count": 4,
   "id": "e28ca403-7c1c-49cd-b305-f65ea68841dc",
   "metadata": {},
   "outputs": [
    {
     "data": {
      "application/vnd.jupyter.widget-view+json": {
       "model_id": "6a1966446a7447f5bb1f527291448794",
       "version_major": 2,
       "version_minor": 0
      },
      "text/plain": [
       "  0%|          | 0/11047893 [00:00<?, ?it/s]"
      ]
     },
     "metadata": {},
     "output_type": "display_data"
    },
    {
     "name": "stdout",
     "output_type": "stream",
     "text": [
      "['febredordegarganta', 'epistaxe', 'faltadepaladareolfato', 'pigarro', 'distãºrbiosgustativos', ':pacienteassintomã¡tico', 'perdaolfatoepaladar', 'dordegarganta', 'perdadocheiro', 'dispneia', 'inapetãªncia', 'hiposmiaeanosmia.desconfortoabdominal.ediarreia', 'faltadepaladar', 'irritaã§ã£onoolhos', 'assintomã¡tico', 'eotalgia', 'olfato', 'tosseseca', 'febredispneia', 'obstrucaonasal', 'dordegargante', 'faltadeolfatoepaladar', 'dificuldadederespirar', 'diarreia', 'espirro', 'distãºrbiosolfativos', 'tossedificuldadederespirar', 'diarreiaevã´mito', 'dispnã©ia', 'desconforto', 'diarrã©ia', 'tosse', 'fadiga', 'dordecabeã§a', 'olfatoepaladar', 'coriza', 'febre', 'dornoouvidoesquerdo', 'dispineia']\n"
     ]
    }
   ],
   "source": [
    "# Pegando a lista de sintomas.\n",
    "baseDados = baseDados.drop(['Ã¿id', 'Unnamed: 0', 0], axis=1)\n",
    "# sintomas = set()\n",
    "# for tmp in tqdm_notebook(baseDados['sintomas']):\n",
    "#     for tmp2 in str(tmp).split(','):\n",
    "#         sintomas.add(tmp2.lower().replace(' ','').replace('outros', ''))\n",
    "\n",
    "# to_remove = ['', 'assintomático', 'nan', ':pacienteassintomático']\n",
    "# sintomas.difference_update(to_remove)\n",
    "# sintomas = list(sintomas)\n",
    "# print(sintomas)"
   ]
  },
  {
   "cell_type": "code",
   "execution_count": 5,
   "id": "0a9bd6c7-c86d-4456-b479-f5d3e3854e75",
   "metadata": {},
   "outputs": [],
   "source": [
    "# Criando lista de sintomas manualmente de acordo com a lista de sintomas apresentada\n",
    "\n",
    "sintomas = list([\n",
    "    'paladar', \n",
    "    'fadiga',  \n",
    "    'olfato',\n",
    "    'garganta',\n",
    "    'respirar', \n",
    "    'febre',    \n",
    "    'tosse',\n",
    "    'diarreia',\n",
    "    'coriza',\n",
    "    'dispineia',\n",
    "])"
   ]
  },
  {
   "cell_type": "code",
   "execution_count": 6,
   "id": "3694146f-418a-4093-a2a9-e40d6c078207",
   "metadata": {},
   "outputs": [
    {
     "data": {
      "application/vnd.jupyter.widget-view+json": {
       "model_id": "d0cd145127214518b910b83f7f2ef602",
       "version_major": 2,
       "version_minor": 0
      },
      "text/plain": [
       "  0%|          | 0/10 [00:00<?, ?it/s]"
      ]
     },
     "metadata": {},
     "output_type": "display_data"
    },
    {
     "data": {
      "application/vnd.jupyter.widget-view+json": {
       "model_id": "af9d3888d17647a49a12025161a0d721",
       "version_major": 2,
       "version_minor": 0
      },
      "text/plain": [
       "Sintoma: paladar:   0%|          | 0/11047893 [00:00<?, ?it/s]"
      ]
     },
     "metadata": {},
     "output_type": "display_data"
    },
    {
     "data": {
      "application/vnd.jupyter.widget-view+json": {
       "model_id": "b1ede7f03033421a903b021cdd67822d",
       "version_major": 2,
       "version_minor": 0
      },
      "text/plain": [
       "Sintoma: fadiga:   0%|          | 0/11047893 [00:00<?, ?it/s]"
      ]
     },
     "metadata": {},
     "output_type": "display_data"
    },
    {
     "data": {
      "application/vnd.jupyter.widget-view+json": {
       "model_id": "3b31633a4f1b4b81ab0c46fcde5796bf",
       "version_major": 2,
       "version_minor": 0
      },
      "text/plain": [
       "Sintoma: olfato:   0%|          | 0/11047893 [00:00<?, ?it/s]"
      ]
     },
     "metadata": {},
     "output_type": "display_data"
    },
    {
     "data": {
      "application/vnd.jupyter.widget-view+json": {
       "model_id": "26ad50b4c18144f4b4b398d515778dda",
       "version_major": 2,
       "version_minor": 0
      },
      "text/plain": [
       "Sintoma: garganta:   0%|          | 0/11047893 [00:00<?, ?it/s]"
      ]
     },
     "metadata": {},
     "output_type": "display_data"
    },
    {
     "data": {
      "application/vnd.jupyter.widget-view+json": {
       "model_id": "d564d6628af847b38bdbcde16302dd9a",
       "version_major": 2,
       "version_minor": 0
      },
      "text/plain": [
       "Sintoma: respirar:   0%|          | 0/11047893 [00:00<?, ?it/s]"
      ]
     },
     "metadata": {},
     "output_type": "display_data"
    },
    {
     "data": {
      "application/vnd.jupyter.widget-view+json": {
       "model_id": "03139505e8d34a869d64ecfb0151fd17",
       "version_major": 2,
       "version_minor": 0
      },
      "text/plain": [
       "Sintoma: febre:   0%|          | 0/11047893 [00:00<?, ?it/s]"
      ]
     },
     "metadata": {},
     "output_type": "display_data"
    },
    {
     "data": {
      "application/vnd.jupyter.widget-view+json": {
       "model_id": "244d2e8e8216463e9140c46947238077",
       "version_major": 2,
       "version_minor": 0
      },
      "text/plain": [
       "Sintoma: tosse:   0%|          | 0/11047893 [00:00<?, ?it/s]"
      ]
     },
     "metadata": {},
     "output_type": "display_data"
    },
    {
     "data": {
      "application/vnd.jupyter.widget-view+json": {
       "model_id": "9beb9057975b4400b200d706c567ef3c",
       "version_major": 2,
       "version_minor": 0
      },
      "text/plain": [
       "Sintoma: diarreia:   0%|          | 0/11047893 [00:00<?, ?it/s]"
      ]
     },
     "metadata": {},
     "output_type": "display_data"
    },
    {
     "data": {
      "application/vnd.jupyter.widget-view+json": {
       "model_id": "95a26de408a74082be4cfe608fa3810f",
       "version_major": 2,
       "version_minor": 0
      },
      "text/plain": [
       "Sintoma: coriza:   0%|          | 0/11047893 [00:00<?, ?it/s]"
      ]
     },
     "metadata": {},
     "output_type": "display_data"
    },
    {
     "data": {
      "application/vnd.jupyter.widget-view+json": {
       "model_id": "76e495deb11b41a19da3ceeac4c49b90",
       "version_major": 2,
       "version_minor": 0
      },
      "text/plain": [
       "Sintoma: dispineia:   0%|          | 0/11047893 [00:00<?, ?it/s]"
      ]
     },
     "metadata": {},
     "output_type": "display_data"
    },
    {
     "name": "stdout",
     "output_type": "stream",
     "text": [
      "{'Negativo', 'Positivo'}\n",
      "{nan, 'Feminino', 'Masculino', 'Indefinido'}\n"
     ]
    },
    {
     "data": {
      "text/html": [
       "<div>\n",
       "<style scoped>\n",
       "    .dataframe tbody tr th:only-of-type {\n",
       "        vertical-align: middle;\n",
       "    }\n",
       "\n",
       "    .dataframe tbody tr th {\n",
       "        vertical-align: top;\n",
       "    }\n",
       "\n",
       "    .dataframe thead th {\n",
       "        text-align: right;\n",
       "    }\n",
       "</style>\n",
       "<table border=\"1\" class=\"dataframe\">\n",
       "  <thead>\n",
       "    <tr style=\"text-align: right;\">\n",
       "      <th></th>\n",
       "      <th>condicoes</th>\n",
       "      <th>idade</th>\n",
       "      <th>resultadoTeste</th>\n",
       "      <th>sexo</th>\n",
       "      <th>paladar</th>\n",
       "      <th>fadiga</th>\n",
       "      <th>olfato</th>\n",
       "      <th>garganta</th>\n",
       "      <th>respirar</th>\n",
       "      <th>febre</th>\n",
       "      <th>tosse</th>\n",
       "      <th>diarreia</th>\n",
       "      <th>coriza</th>\n",
       "      <th>dispineia</th>\n",
       "    </tr>\n",
       "  </thead>\n",
       "  <tbody>\n",
       "    <tr>\n",
       "      <th>1</th>\n",
       "      <td>NaN</td>\n",
       "      <td>36.0</td>\n",
       "      <td>Positivo</td>\n",
       "      <td>Masculino</td>\n",
       "      <td>0</td>\n",
       "      <td>0</td>\n",
       "      <td>0</td>\n",
       "      <td>1</td>\n",
       "      <td>0</td>\n",
       "      <td>1</td>\n",
       "      <td>0</td>\n",
       "      <td>0</td>\n",
       "      <td>0</td>\n",
       "      <td>0</td>\n",
       "    </tr>\n",
       "    <tr>\n",
       "      <th>2</th>\n",
       "      <td>NaN</td>\n",
       "      <td>34.0</td>\n",
       "      <td>Negativo</td>\n",
       "      <td>Feminino</td>\n",
       "      <td>0</td>\n",
       "      <td>0</td>\n",
       "      <td>0</td>\n",
       "      <td>0</td>\n",
       "      <td>0</td>\n",
       "      <td>0</td>\n",
       "      <td>1</td>\n",
       "      <td>0</td>\n",
       "      <td>0</td>\n",
       "      <td>0</td>\n",
       "    </tr>\n",
       "    <tr>\n",
       "      <th>3</th>\n",
       "      <td>NaN</td>\n",
       "      <td>20.0</td>\n",
       "      <td>Positivo</td>\n",
       "      <td>Masculino</td>\n",
       "      <td>0</td>\n",
       "      <td>0</td>\n",
       "      <td>0</td>\n",
       "      <td>1</td>\n",
       "      <td>0</td>\n",
       "      <td>1</td>\n",
       "      <td>1</td>\n",
       "      <td>0</td>\n",
       "      <td>0</td>\n",
       "      <td>0</td>\n",
       "    </tr>\n",
       "    <tr>\n",
       "      <th>4</th>\n",
       "      <td>NaN</td>\n",
       "      <td>32.0</td>\n",
       "      <td>Negativo</td>\n",
       "      <td>Feminino</td>\n",
       "      <td>0</td>\n",
       "      <td>0</td>\n",
       "      <td>0</td>\n",
       "      <td>0</td>\n",
       "      <td>0</td>\n",
       "      <td>0</td>\n",
       "      <td>0</td>\n",
       "      <td>0</td>\n",
       "      <td>0</td>\n",
       "      <td>0</td>\n",
       "    </tr>\n",
       "    <tr>\n",
       "      <th>5</th>\n",
       "      <td>NaN</td>\n",
       "      <td>32.0</td>\n",
       "      <td>Negativo</td>\n",
       "      <td>Masculino</td>\n",
       "      <td>0</td>\n",
       "      <td>0</td>\n",
       "      <td>0</td>\n",
       "      <td>0</td>\n",
       "      <td>0</td>\n",
       "      <td>0</td>\n",
       "      <td>0</td>\n",
       "      <td>0</td>\n",
       "      <td>0</td>\n",
       "      <td>0</td>\n",
       "    </tr>\n",
       "  </tbody>\n",
       "</table>\n",
       "</div>"
      ],
      "text/plain": [
       "  condicoes  idade resultadoTeste       sexo  paladar  fadiga  olfato  \\\n",
       "1       NaN   36.0       Positivo  Masculino        0       0       0   \n",
       "2       NaN   34.0       Negativo   Feminino        0       0       0   \n",
       "3       NaN   20.0       Positivo  Masculino        0       0       0   \n",
       "4       NaN   32.0       Negativo   Feminino        0       0       0   \n",
       "5       NaN   32.0       Negativo  Masculino        0       0       0   \n",
       "\n",
       "   garganta  respirar  febre  tosse  diarreia  coriza  dispineia  \n",
       "1         1         0      1      0         0       0          0  \n",
       "2         0         0      0      1         0       0          0  \n",
       "3         1         0      1      1         0       0          0  \n",
       "4         0         0      0      0         0       0          0  \n",
       "5         0         0      0      0         0       0          0  "
      ]
     },
     "execution_count": 6,
     "metadata": {},
     "output_type": "execute_result"
    }
   ],
   "source": [
    "# Criando novas colunas para sintomas\n",
    "\n",
    "baseDados[sintomas] = 0\n",
    "for sint in tqdm_notebook(sintomas):\n",
    "    li = []\n",
    "    for s in tqdm_notebook(baseDados['sintomas'], desc=f'Sintoma: {sint}'):\n",
    "        if str(s).lower().replace(' ', '').find(sint) != -1:\n",
    "            li.append(1)\n",
    "        else:\n",
    "            li.append(0)\n",
    "    baseDados[sint] = li\n",
    "# mask = (sum(baseDados[[\n",
    "#     'paladar', \n",
    "#     'fadiga',  \n",
    "#     'olfato',\n",
    "#     'garganta',\n",
    "#     'respirar', \n",
    "#     'febre',    \n",
    "#     'tosse',\n",
    "#     'diarreia',\n",
    "#     'coriza',\n",
    "#     'dispineia',\n",
    "# ]]) == 0)\n",
    "    \n",
    "# baseDados= baseDados.loc[~mask]\n",
    "baseDados = baseDados.drop(['sintomas'], axis=1)\n",
    "print(set(baseDados['resultadoTeste']))\n",
    "print(set(baseDados['sexo']))\n",
    "baseDados.head()"
   ]
  },
  {
   "cell_type": "markdown",
   "id": "7e6815e2-b343-4d60-9136-5a97985744c6",
   "metadata": {},
   "source": [
    "### Tranformando dados não numéricos\n",
    "\n",
    "Aqui é usada uma abordagem manual para tranformação desses dados pois alguns frameworks estavam dando erros. As variáveis categóricas foram definidas com o conjunto de valores {0, 1}"
   ]
  },
  {
   "cell_type": "code",
   "execution_count": 7,
   "id": "9d424977-9c54-46e2-8789-e767b62ca923",
   "metadata": {},
   "outputs": [
    {
     "data": {
      "application/vnd.jupyter.widget-view+json": {
       "model_id": "0a4f15cd6ac84107939854dab98cf62f",
       "version_major": 2,
       "version_minor": 0
      },
      "text/plain": [
       "  0%|          | 0/11047893 [00:00<?, ?it/s]"
      ]
     },
     "metadata": {},
     "output_type": "display_data"
    },
    {
     "data": {
      "application/vnd.jupyter.widget-view+json": {
       "model_id": "b4eba9b452eb4a2d9585ca2af7c430d3",
       "version_major": 2,
       "version_minor": 0
      },
      "text/plain": [
       "  0%|          | 0/11047893 [00:00<?, ?it/s]"
      ]
     },
     "metadata": {},
     "output_type": "display_data"
    },
    {
     "data": {
      "application/vnd.jupyter.widget-view+json": {
       "model_id": "4228634b39804b94a0fbe771181644e5",
       "version_major": 2,
       "version_minor": 0
      },
      "text/plain": [
       "  0%|          | 0/11047893 [00:00<?, ?it/s]"
      ]
     },
     "metadata": {},
     "output_type": "display_data"
    },
    {
     "data": {
      "text/html": [
       "<div>\n",
       "<style scoped>\n",
       "    .dataframe tbody tr th:only-of-type {\n",
       "        vertical-align: middle;\n",
       "    }\n",
       "\n",
       "    .dataframe tbody tr th {\n",
       "        vertical-align: top;\n",
       "    }\n",
       "\n",
       "    .dataframe thead th {\n",
       "        text-align: right;\n",
       "    }\n",
       "</style>\n",
       "<table border=\"1\" class=\"dataframe\">\n",
       "  <thead>\n",
       "    <tr style=\"text-align: right;\">\n",
       "      <th></th>\n",
       "      <th>condicoes</th>\n",
       "      <th>idade</th>\n",
       "      <th>resultadoTeste</th>\n",
       "      <th>sexo</th>\n",
       "      <th>paladar</th>\n",
       "      <th>fadiga</th>\n",
       "      <th>olfato</th>\n",
       "      <th>garganta</th>\n",
       "      <th>respirar</th>\n",
       "      <th>febre</th>\n",
       "      <th>tosse</th>\n",
       "      <th>diarreia</th>\n",
       "      <th>coriza</th>\n",
       "      <th>dispineia</th>\n",
       "    </tr>\n",
       "  </thead>\n",
       "  <tbody>\n",
       "    <tr>\n",
       "      <th>count</th>\n",
       "      <td>1.104789e+07</td>\n",
       "      <td>1.104065e+07</td>\n",
       "      <td>1.104789e+07</td>\n",
       "      <td>1.104789e+07</td>\n",
       "      <td>1.104789e+07</td>\n",
       "      <td>1.104789e+07</td>\n",
       "      <td>1.104789e+07</td>\n",
       "      <td>1.104789e+07</td>\n",
       "      <td>1.104789e+07</td>\n",
       "      <td>1.104789e+07</td>\n",
       "      <td>1.104789e+07</td>\n",
       "      <td>1.104789e+07</td>\n",
       "      <td>1.104789e+07</td>\n",
       "      <td>1.104789e+07</td>\n",
       "    </tr>\n",
       "    <tr>\n",
       "      <th>mean</th>\n",
       "      <td>8.718323e-02</td>\n",
       "      <td>3.883700e+01</td>\n",
       "      <td>3.973818e-01</td>\n",
       "      <td>5.278854e-01</td>\n",
       "      <td>5.430900e-07</td>\n",
       "      <td>1.810300e-07</td>\n",
       "      <td>4.525750e-07</td>\n",
       "      <td>2.974805e-01</td>\n",
       "      <td>2.172360e-06</td>\n",
       "      <td>3.459985e-01</td>\n",
       "      <td>4.236980e-01</td>\n",
       "      <td>7.241200e-07</td>\n",
       "      <td>1.742332e-01</td>\n",
       "      <td>1.022819e-04</td>\n",
       "    </tr>\n",
       "    <tr>\n",
       "      <th>std</th>\n",
       "      <td>2.821034e-01</td>\n",
       "      <td>1.771945e+01</td>\n",
       "      <td>4.893562e-01</td>\n",
       "      <td>5.016087e-01</td>\n",
       "      <td>7.369462e-04</td>\n",
       "      <td>4.254762e-04</td>\n",
       "      <td>6.727368e-04</td>\n",
       "      <td>4.571497e-01</td>\n",
       "      <td>1.473891e-03</td>\n",
       "      <td>4.756927e-01</td>\n",
       "      <td>4.941437e-01</td>\n",
       "      <td>8.509521e-04</td>\n",
       "      <td>3.793099e-01</td>\n",
       "      <td>1.011294e-02</td>\n",
       "    </tr>\n",
       "    <tr>\n",
       "      <th>min</th>\n",
       "      <td>0.000000e+00</td>\n",
       "      <td>0.000000e+00</td>\n",
       "      <td>0.000000e+00</td>\n",
       "      <td>-1.000000e+00</td>\n",
       "      <td>0.000000e+00</td>\n",
       "      <td>0.000000e+00</td>\n",
       "      <td>0.000000e+00</td>\n",
       "      <td>0.000000e+00</td>\n",
       "      <td>0.000000e+00</td>\n",
       "      <td>0.000000e+00</td>\n",
       "      <td>0.000000e+00</td>\n",
       "      <td>0.000000e+00</td>\n",
       "      <td>0.000000e+00</td>\n",
       "      <td>0.000000e+00</td>\n",
       "    </tr>\n",
       "    <tr>\n",
       "      <th>25%</th>\n",
       "      <td>0.000000e+00</td>\n",
       "      <td>2.700000e+01</td>\n",
       "      <td>0.000000e+00</td>\n",
       "      <td>0.000000e+00</td>\n",
       "      <td>0.000000e+00</td>\n",
       "      <td>0.000000e+00</td>\n",
       "      <td>0.000000e+00</td>\n",
       "      <td>0.000000e+00</td>\n",
       "      <td>0.000000e+00</td>\n",
       "      <td>0.000000e+00</td>\n",
       "      <td>0.000000e+00</td>\n",
       "      <td>0.000000e+00</td>\n",
       "      <td>0.000000e+00</td>\n",
       "      <td>0.000000e+00</td>\n",
       "    </tr>\n",
       "    <tr>\n",
       "      <th>50%</th>\n",
       "      <td>0.000000e+00</td>\n",
       "      <td>3.800000e+01</td>\n",
       "      <td>0.000000e+00</td>\n",
       "      <td>1.000000e+00</td>\n",
       "      <td>0.000000e+00</td>\n",
       "      <td>0.000000e+00</td>\n",
       "      <td>0.000000e+00</td>\n",
       "      <td>0.000000e+00</td>\n",
       "      <td>0.000000e+00</td>\n",
       "      <td>0.000000e+00</td>\n",
       "      <td>0.000000e+00</td>\n",
       "      <td>0.000000e+00</td>\n",
       "      <td>0.000000e+00</td>\n",
       "      <td>0.000000e+00</td>\n",
       "    </tr>\n",
       "    <tr>\n",
       "      <th>75%</th>\n",
       "      <td>0.000000e+00</td>\n",
       "      <td>5.000000e+01</td>\n",
       "      <td>1.000000e+00</td>\n",
       "      <td>1.000000e+00</td>\n",
       "      <td>0.000000e+00</td>\n",
       "      <td>0.000000e+00</td>\n",
       "      <td>0.000000e+00</td>\n",
       "      <td>1.000000e+00</td>\n",
       "      <td>0.000000e+00</td>\n",
       "      <td>1.000000e+00</td>\n",
       "      <td>1.000000e+00</td>\n",
       "      <td>0.000000e+00</td>\n",
       "      <td>0.000000e+00</td>\n",
       "      <td>0.000000e+00</td>\n",
       "    </tr>\n",
       "    <tr>\n",
       "      <th>max</th>\n",
       "      <td>1.000000e+00</td>\n",
       "      <td>1.039000e+03</td>\n",
       "      <td>1.000000e+00</td>\n",
       "      <td>1.000000e+00</td>\n",
       "      <td>1.000000e+00</td>\n",
       "      <td>1.000000e+00</td>\n",
       "      <td>1.000000e+00</td>\n",
       "      <td>1.000000e+00</td>\n",
       "      <td>1.000000e+00</td>\n",
       "      <td>1.000000e+00</td>\n",
       "      <td>1.000000e+00</td>\n",
       "      <td>1.000000e+00</td>\n",
       "      <td>1.000000e+00</td>\n",
       "      <td>1.000000e+00</td>\n",
       "    </tr>\n",
       "  </tbody>\n",
       "</table>\n",
       "</div>"
      ],
      "text/plain": [
       "          condicoes         idade  resultadoTeste          sexo       paladar  \\\n",
       "count  1.104789e+07  1.104065e+07    1.104789e+07  1.104789e+07  1.104789e+07   \n",
       "mean   8.718323e-02  3.883700e+01    3.973818e-01  5.278854e-01  5.430900e-07   \n",
       "std    2.821034e-01  1.771945e+01    4.893562e-01  5.016087e-01  7.369462e-04   \n",
       "min    0.000000e+00  0.000000e+00    0.000000e+00 -1.000000e+00  0.000000e+00   \n",
       "25%    0.000000e+00  2.700000e+01    0.000000e+00  0.000000e+00  0.000000e+00   \n",
       "50%    0.000000e+00  3.800000e+01    0.000000e+00  1.000000e+00  0.000000e+00   \n",
       "75%    0.000000e+00  5.000000e+01    1.000000e+00  1.000000e+00  0.000000e+00   \n",
       "max    1.000000e+00  1.039000e+03    1.000000e+00  1.000000e+00  1.000000e+00   \n",
       "\n",
       "             fadiga        olfato      garganta      respirar         febre  \\\n",
       "count  1.104789e+07  1.104789e+07  1.104789e+07  1.104789e+07  1.104789e+07   \n",
       "mean   1.810300e-07  4.525750e-07  2.974805e-01  2.172360e-06  3.459985e-01   \n",
       "std    4.254762e-04  6.727368e-04  4.571497e-01  1.473891e-03  4.756927e-01   \n",
       "min    0.000000e+00  0.000000e+00  0.000000e+00  0.000000e+00  0.000000e+00   \n",
       "25%    0.000000e+00  0.000000e+00  0.000000e+00  0.000000e+00  0.000000e+00   \n",
       "50%    0.000000e+00  0.000000e+00  0.000000e+00  0.000000e+00  0.000000e+00   \n",
       "75%    0.000000e+00  0.000000e+00  1.000000e+00  0.000000e+00  1.000000e+00   \n",
       "max    1.000000e+00  1.000000e+00  1.000000e+00  1.000000e+00  1.000000e+00   \n",
       "\n",
       "              tosse      diarreia        coriza     dispineia  \n",
       "count  1.104789e+07  1.104789e+07  1.104789e+07  1.104789e+07  \n",
       "mean   4.236980e-01  7.241200e-07  1.742332e-01  1.022819e-04  \n",
       "std    4.941437e-01  8.509521e-04  3.793099e-01  1.011294e-02  \n",
       "min    0.000000e+00  0.000000e+00  0.000000e+00  0.000000e+00  \n",
       "25%    0.000000e+00  0.000000e+00  0.000000e+00  0.000000e+00  \n",
       "50%    0.000000e+00  0.000000e+00  0.000000e+00  0.000000e+00  \n",
       "75%    1.000000e+00  0.000000e+00  0.000000e+00  0.000000e+00  \n",
       "max    1.000000e+00  1.000000e+00  1.000000e+00  1.000000e+00  "
      ]
     },
     "execution_count": 7,
     "metadata": {},
     "output_type": "execute_result"
    }
   ],
   "source": [
    "# Transformando dados não numéricos\n",
    "\n",
    "li = []\n",
    "for cond in tqdm_notebook(baseDados['condicoes']):\n",
    "    if str(cond).lower() != 'nan':\n",
    "        li.append(1)\n",
    "    else:\n",
    "        li.append(0)\n",
    "baseDados['condicoes'] = li\n",
    "\n",
    "\n",
    "li = []\n",
    "for res in tqdm_notebook(baseDados['resultadoTeste']):\n",
    "    if str(res) == 'Positivo':\n",
    "        li.append(1)\n",
    "    else:\n",
    "        li.append(0)\n",
    "baseDados['resultadoTeste'] = li\n",
    "\n",
    "li = []\n",
    "for sexo in tqdm_notebook(baseDados['sexo']):\n",
    "    if sexo == 'Masculino':\n",
    "        li.append(0)\n",
    "    elif sexo == 'Feminino':\n",
    "        li.append(1)\n",
    "    else:\n",
    "        li.append(-1)\n",
    "baseDados['sexo'] = li\n",
    "baseDados.describe()"
   ]
  },
  {
   "cell_type": "markdown",
   "id": "d3a17e32-72b4-4e09-82c5-a3932043ec3a",
   "metadata": {},
   "source": [
    "### Preenchendo dados faltantes. \n",
    "\n",
    "Esse foi um teste feito para verificar a melhora ou não dos modelos de treinamento. Alguns dados ainda ficaram faltando, então para o preenchimento desses campos, foi testado algumas abordagens, como preencher esses dados com a média ou mediana. "
   ]
  },
  {
   "cell_type": "code",
   "execution_count": 8,
   "id": "8eed2ddc-2c13-4cb2-85cd-b68876c4c889",
   "metadata": {},
   "outputs": [
    {
     "data": {
      "text/html": [
       "<div>\n",
       "<style scoped>\n",
       "    .dataframe tbody tr th:only-of-type {\n",
       "        vertical-align: middle;\n",
       "    }\n",
       "\n",
       "    .dataframe tbody tr th {\n",
       "        vertical-align: top;\n",
       "    }\n",
       "\n",
       "    .dataframe thead th {\n",
       "        text-align: right;\n",
       "    }\n",
       "</style>\n",
       "<table border=\"1\" class=\"dataframe\">\n",
       "  <thead>\n",
       "    <tr style=\"text-align: right;\">\n",
       "      <th></th>\n",
       "      <th>condicoes</th>\n",
       "      <th>idade</th>\n",
       "      <th>resultadoTeste</th>\n",
       "      <th>sexo</th>\n",
       "      <th>paladar</th>\n",
       "      <th>fadiga</th>\n",
       "      <th>olfato</th>\n",
       "      <th>garganta</th>\n",
       "      <th>respirar</th>\n",
       "      <th>febre</th>\n",
       "      <th>tosse</th>\n",
       "      <th>diarreia</th>\n",
       "      <th>coriza</th>\n",
       "      <th>dispineia</th>\n",
       "    </tr>\n",
       "  </thead>\n",
       "  <tbody>\n",
       "    <tr>\n",
       "      <th>count</th>\n",
       "      <td>1.104789e+07</td>\n",
       "      <td>1.104065e+07</td>\n",
       "      <td>1.104789e+07</td>\n",
       "      <td>1.104789e+07</td>\n",
       "      <td>1.104789e+07</td>\n",
       "      <td>1.104789e+07</td>\n",
       "      <td>1.104789e+07</td>\n",
       "      <td>1.104789e+07</td>\n",
       "      <td>1.104789e+07</td>\n",
       "      <td>1.104789e+07</td>\n",
       "      <td>1.104789e+07</td>\n",
       "      <td>1.104789e+07</td>\n",
       "      <td>1.104789e+07</td>\n",
       "      <td>1.104789e+07</td>\n",
       "    </tr>\n",
       "    <tr>\n",
       "      <th>mean</th>\n",
       "      <td>8.718323e-02</td>\n",
       "      <td>3.883700e+01</td>\n",
       "      <td>3.973818e-01</td>\n",
       "      <td>5.278854e-01</td>\n",
       "      <td>5.430900e-07</td>\n",
       "      <td>1.810300e-07</td>\n",
       "      <td>4.525750e-07</td>\n",
       "      <td>2.974805e-01</td>\n",
       "      <td>2.172360e-06</td>\n",
       "      <td>3.459985e-01</td>\n",
       "      <td>4.236980e-01</td>\n",
       "      <td>7.241200e-07</td>\n",
       "      <td>1.742332e-01</td>\n",
       "      <td>1.022819e-04</td>\n",
       "    </tr>\n",
       "    <tr>\n",
       "      <th>std</th>\n",
       "      <td>2.821034e-01</td>\n",
       "      <td>1.771945e+01</td>\n",
       "      <td>4.893562e-01</td>\n",
       "      <td>5.016087e-01</td>\n",
       "      <td>7.369462e-04</td>\n",
       "      <td>4.254762e-04</td>\n",
       "      <td>6.727368e-04</td>\n",
       "      <td>4.571497e-01</td>\n",
       "      <td>1.473891e-03</td>\n",
       "      <td>4.756927e-01</td>\n",
       "      <td>4.941437e-01</td>\n",
       "      <td>8.509521e-04</td>\n",
       "      <td>3.793099e-01</td>\n",
       "      <td>1.011294e-02</td>\n",
       "    </tr>\n",
       "    <tr>\n",
       "      <th>min</th>\n",
       "      <td>0.000000e+00</td>\n",
       "      <td>0.000000e+00</td>\n",
       "      <td>0.000000e+00</td>\n",
       "      <td>-1.000000e+00</td>\n",
       "      <td>0.000000e+00</td>\n",
       "      <td>0.000000e+00</td>\n",
       "      <td>0.000000e+00</td>\n",
       "      <td>0.000000e+00</td>\n",
       "      <td>0.000000e+00</td>\n",
       "      <td>0.000000e+00</td>\n",
       "      <td>0.000000e+00</td>\n",
       "      <td>0.000000e+00</td>\n",
       "      <td>0.000000e+00</td>\n",
       "      <td>0.000000e+00</td>\n",
       "    </tr>\n",
       "    <tr>\n",
       "      <th>25%</th>\n",
       "      <td>0.000000e+00</td>\n",
       "      <td>2.700000e+01</td>\n",
       "      <td>0.000000e+00</td>\n",
       "      <td>0.000000e+00</td>\n",
       "      <td>0.000000e+00</td>\n",
       "      <td>0.000000e+00</td>\n",
       "      <td>0.000000e+00</td>\n",
       "      <td>0.000000e+00</td>\n",
       "      <td>0.000000e+00</td>\n",
       "      <td>0.000000e+00</td>\n",
       "      <td>0.000000e+00</td>\n",
       "      <td>0.000000e+00</td>\n",
       "      <td>0.000000e+00</td>\n",
       "      <td>0.000000e+00</td>\n",
       "    </tr>\n",
       "    <tr>\n",
       "      <th>50%</th>\n",
       "      <td>0.000000e+00</td>\n",
       "      <td>3.800000e+01</td>\n",
       "      <td>0.000000e+00</td>\n",
       "      <td>1.000000e+00</td>\n",
       "      <td>0.000000e+00</td>\n",
       "      <td>0.000000e+00</td>\n",
       "      <td>0.000000e+00</td>\n",
       "      <td>0.000000e+00</td>\n",
       "      <td>0.000000e+00</td>\n",
       "      <td>0.000000e+00</td>\n",
       "      <td>0.000000e+00</td>\n",
       "      <td>0.000000e+00</td>\n",
       "      <td>0.000000e+00</td>\n",
       "      <td>0.000000e+00</td>\n",
       "    </tr>\n",
       "    <tr>\n",
       "      <th>75%</th>\n",
       "      <td>0.000000e+00</td>\n",
       "      <td>5.000000e+01</td>\n",
       "      <td>1.000000e+00</td>\n",
       "      <td>1.000000e+00</td>\n",
       "      <td>0.000000e+00</td>\n",
       "      <td>0.000000e+00</td>\n",
       "      <td>0.000000e+00</td>\n",
       "      <td>1.000000e+00</td>\n",
       "      <td>0.000000e+00</td>\n",
       "      <td>1.000000e+00</td>\n",
       "      <td>1.000000e+00</td>\n",
       "      <td>0.000000e+00</td>\n",
       "      <td>0.000000e+00</td>\n",
       "      <td>0.000000e+00</td>\n",
       "    </tr>\n",
       "    <tr>\n",
       "      <th>max</th>\n",
       "      <td>1.000000e+00</td>\n",
       "      <td>1.039000e+03</td>\n",
       "      <td>1.000000e+00</td>\n",
       "      <td>1.000000e+00</td>\n",
       "      <td>1.000000e+00</td>\n",
       "      <td>1.000000e+00</td>\n",
       "      <td>1.000000e+00</td>\n",
       "      <td>1.000000e+00</td>\n",
       "      <td>1.000000e+00</td>\n",
       "      <td>1.000000e+00</td>\n",
       "      <td>1.000000e+00</td>\n",
       "      <td>1.000000e+00</td>\n",
       "      <td>1.000000e+00</td>\n",
       "      <td>1.000000e+00</td>\n",
       "    </tr>\n",
       "  </tbody>\n",
       "</table>\n",
       "</div>"
      ],
      "text/plain": [
       "          condicoes         idade  resultadoTeste          sexo       paladar  \\\n",
       "count  1.104789e+07  1.104065e+07    1.104789e+07  1.104789e+07  1.104789e+07   \n",
       "mean   8.718323e-02  3.883700e+01    3.973818e-01  5.278854e-01  5.430900e-07   \n",
       "std    2.821034e-01  1.771945e+01    4.893562e-01  5.016087e-01  7.369462e-04   \n",
       "min    0.000000e+00  0.000000e+00    0.000000e+00 -1.000000e+00  0.000000e+00   \n",
       "25%    0.000000e+00  2.700000e+01    0.000000e+00  0.000000e+00  0.000000e+00   \n",
       "50%    0.000000e+00  3.800000e+01    0.000000e+00  1.000000e+00  0.000000e+00   \n",
       "75%    0.000000e+00  5.000000e+01    1.000000e+00  1.000000e+00  0.000000e+00   \n",
       "max    1.000000e+00  1.039000e+03    1.000000e+00  1.000000e+00  1.000000e+00   \n",
       "\n",
       "             fadiga        olfato      garganta      respirar         febre  \\\n",
       "count  1.104789e+07  1.104789e+07  1.104789e+07  1.104789e+07  1.104789e+07   \n",
       "mean   1.810300e-07  4.525750e-07  2.974805e-01  2.172360e-06  3.459985e-01   \n",
       "std    4.254762e-04  6.727368e-04  4.571497e-01  1.473891e-03  4.756927e-01   \n",
       "min    0.000000e+00  0.000000e+00  0.000000e+00  0.000000e+00  0.000000e+00   \n",
       "25%    0.000000e+00  0.000000e+00  0.000000e+00  0.000000e+00  0.000000e+00   \n",
       "50%    0.000000e+00  0.000000e+00  0.000000e+00  0.000000e+00  0.000000e+00   \n",
       "75%    0.000000e+00  0.000000e+00  1.000000e+00  0.000000e+00  1.000000e+00   \n",
       "max    1.000000e+00  1.000000e+00  1.000000e+00  1.000000e+00  1.000000e+00   \n",
       "\n",
       "              tosse      diarreia        coriza     dispineia  \n",
       "count  1.104789e+07  1.104789e+07  1.104789e+07  1.104789e+07  \n",
       "mean   4.236980e-01  7.241200e-07  1.742332e-01  1.022819e-04  \n",
       "std    4.941437e-01  8.509521e-04  3.793099e-01  1.011294e-02  \n",
       "min    0.000000e+00  0.000000e+00  0.000000e+00  0.000000e+00  \n",
       "25%    0.000000e+00  0.000000e+00  0.000000e+00  0.000000e+00  \n",
       "50%    0.000000e+00  0.000000e+00  0.000000e+00  0.000000e+00  \n",
       "75%    1.000000e+00  0.000000e+00  0.000000e+00  0.000000e+00  \n",
       "max    1.000000e+00  1.000000e+00  1.000000e+00  1.000000e+00  "
      ]
     },
     "execution_count": 8,
     "metadata": {},
     "output_type": "execute_result"
    }
   ],
   "source": [
    "# Preenchendo campos que tem valor nan em idade\n",
    "\n",
    "imputer = SimpleImputer(missing_values=np.nan, strategy='median')\n",
    "imputer = imputer.fit(baseDados.iloc[:,3:4])\n",
    "baseDados.iloc[:, 3:4] = imputer.transform(baseDados.iloc[:,3:4])\n",
    "baseDados.describe()"
   ]
  },
  {
   "cell_type": "markdown",
   "id": "a6956257-a660-45a8-8e71-017cb837b01d",
   "metadata": {},
   "source": [
    "### Separando input de output\n",
    "\n",
    "Aqui é onde é separado o conjunto de entrada e o conjunto de saída dos modelos. Além disso alguns dados são tratados a fim de remover linhas em que existe dados faltando o inocerentes. Quando foi utilizado o imputer que preenchia os dados faltantes poucos dados eram removidos. \n",
    "\n",
    "Em seguida os dados são divididos em conjunto de treino e teste "
   ]
  },
  {
   "cell_type": "code",
   "execution_count": 9,
   "id": "75cab294-27c2-4fb8-ad47-db04ff046914",
   "metadata": {},
   "outputs": [
    {
     "data": {
      "application/vnd.jupyter.widget-view+json": {
       "model_id": "cbcd2a8f0a2b46969823c33cdb5f36e8",
       "version_major": 2,
       "version_minor": 0
      },
      "text/plain": [
       "  0%|          | 0/11047893 [00:01<?, ?it/s]"
      ]
     },
     "metadata": {},
     "output_type": "display_data"
    },
    {
     "data": {
      "text/plain": [
       "array([1., 0., 1., ..., 0., 0., 0.])"
      ]
     },
     "execution_count": 9,
     "metadata": {},
     "output_type": "execute_result"
    }
   ],
   "source": [
    "# Seprando input de output\n",
    "\n",
    "Y = baseDados.iloc[:,2].values\n",
    "X = baseDados.drop('resultadoTeste', axis=1)\n",
    "X = X.values\n",
    "\n",
    "lista = []\n",
    "for i in tqdm_notebook(range(len(X))):\n",
    "    if str(Y[i]) == 'nan' or str(Y[i]) == 'inf' or sum(X[i,4:]) == 0:\n",
    "        lista.append(i)\n",
    "        continue\n",
    "    for j in range(len(X[i,:])):\n",
    "        if len(lista) > 0 and lista[-1] == i:\n",
    "            continue\n",
    "        x = str(X[i,j])\n",
    "        if x == 'nan' or x == 'inf' or x == '-1':\n",
    "            lista.append(i)\n",
    "\n",
    "\n",
    "X = np.delete(X, lista, axis=0)\n",
    "Y = np.delete(Y, lista, axis=0)\n",
    "\n",
    "X = np.array(X, dtype=np.float64)\n",
    "Y = np.array(Y, dtype=np.float64)\n",
    "\n",
    "\n",
    "Y"
   ]
  },
  {
   "cell_type": "code",
   "execution_count": 10,
   "id": "7f308463-e169-4166-a69a-fd4a82fd49b0",
   "metadata": {},
   "outputs": [
    {
     "name": "stdout",
     "output_type": "stream",
     "text": [
      "5711458 1427865\n"
     ]
    }
   ],
   "source": [
    "# Dividindo em conjunto de dados e de teste\n",
    "Xtrain, Xtest, Ytrain, Ytest = train_test_split(X, Y, test_size = 0.2)\n",
    "\n",
    "print(len(Xtrain), len(Xtest))"
   ]
  },
  {
   "cell_type": "markdown",
   "id": "5b577358-daab-41c1-abf1-846fe33ad90c",
   "metadata": {},
   "source": [
    "### Balanceamento de dados.\n",
    "\n",
    "Esse campo é um teste com relação a balanceamento de dados, pois os resultados estão na proporção 3/2 e foram testadas duas abordagens: \n",
    "- Over sample: Duplicar dados que tem em menor quantidade.\n",
    "- Under sample: Remover dados que estão em excesso. \n",
    "\n",
    "### Normalização dos dados.\n",
    "\n",
    "Em seguida ao balanceamento, foi realizada a normalização dos dados. "
   ]
  },
  {
   "cell_type": "code",
   "execution_count": 11,
   "id": "350a94ac-ce9b-4024-bf98-0662c5c4d44d",
   "metadata": {},
   "outputs": [
    {
     "name": "stderr",
     "output_type": "stream",
     "text": [
      "/home/jps12/.local/lib/python3.8/site-packages/seaborn/_decorators.py:36: FutureWarning: Pass the following variable as a keyword arg: x. From version 0.12, the only valid positional argument will be `data`, and passing other arguments without an explicit keyword will result in an error or misinterpretation.\n",
      "  warnings.warn(\n"
     ]
    },
    {
     "data": {
      "text/plain": [
       "<AxesSubplot:ylabel='count'>"
      ]
     },
     "execution_count": 11,
     "metadata": {},
     "output_type": "execute_result"
    },
    {
     "data": {
      "image/png": "[encoded data removed]",
      "text/plain": [
       "<Figure size 432x288 with 1 Axes>"
      ]
     },
     "metadata": {
      "needs_background": "light"
     },
     "output_type": "display_data"
    }
   ],
   "source": [
    "# Balanceando os dados \n",
    "ros = RandomOverSampler()\n",
    "Xtrain, Ytrain = ros.fit_resample(Xtrain, Ytrain)\n",
    "sns.countplot(Ytrain)\n"
   ]
  },
  {
   "cell_type": "code",
   "execution_count": 12,
   "id": "97667fd5-e8d3-4754-a85b-558dff595476",
   "metadata": {},
   "outputs": [],
   "source": [
    "# Normalização dos dados\n",
    "scaleX = StandardScaler()\n",
    "Xtrain = scaleX.fit_transform(Xtrain)\n",
    "Xtest = scaleX.fit_transform(Xtest)"
   ]
  },
  {
   "cell_type": "markdown",
   "id": "5b84bd7c-5c21-453a-8fdc-e4131653bf20",
   "metadata": {
    "tags": []
   },
   "source": [
    "### Regressão linear multipla\n",
    "\n",
    "O primeiro modelo testado nesse arquivo foi uma regressão linear múltipla. Os resultados obtidos ficaram na faixa de 50-60% de acurácia. Além disso foi testado também o backward elimination que testa quais variáveis fazem ou não sentido para a regressão linear e em geral aumentava a acurácia em alguns %."
   ]
  },
  {
   "cell_type": "code",
   "execution_count": 13,
   "id": "15f07f61-2910-4976-ba97-6798e0771e88",
   "metadata": {},
   "outputs": [
    {
     "name": "stdout",
     "output_type": "stream",
     "text": [
      "Acurácia: 56.72265935505108%\n"
     ]
    },
    {
     "data": {
      "text/plain": [
       "<AxesSubplot:title={'center':'Normalized Confusion Matrix'}, xlabel='Predicted label', ylabel='True label'>"
      ]
     },
     "execution_count": 13,
     "metadata": {},
     "output_type": "execute_result"
    },
    {
     "data": {
      "image/png": "[encoded data removed]",
      "text/plain": [
       "<Figure size 432x288 with 2 Axes>"
      ]
     },
     "metadata": {
      "needs_background": "light"
     },
     "output_type": "display_data"
    }
   ],
   "source": [
    "# Regressão linear multipla com Backward Elimination\n",
    "from sklearn.linear_model import LinearRegression\n",
    "# import statsmodels.api as sm\n",
    "\n",
    "# print(Xtest.shape)\n",
    "# Xotimo = Xtrain[:, [0, 1, 2, 4, 5, 6, 7, 8, 9, 10]]\n",
    "# Xtesto = Xtest[:, [0, 1, 2, 4, 5, 6, 7, 8, 9, 10]]\n",
    "\n",
    "regressor = LinearRegression()\n",
    "regressor.fit(Xtrain, Ytrain)\n",
    "Ypred = regressor.predict(Xtest)\n",
    "\n",
    "Ypred = [round(value) for value in Ypred]\n",
    "\n",
    "# Imprimindo a Acurácia\n",
    "accuracy = accuracy_score(Ytest, Ypred)\n",
    "print(f'Acurácia: {accuracy*100}%')\n",
    "\n",
    "# Imprimir matriz de confusão\n",
    "\n",
    "skplt.metrics.plot_confusion_matrix(Ytest, Ypred, normalize=True)"
   ]
  },
  {
   "cell_type": "markdown",
   "id": "c7c564c4-c2c8-4ae0-b9cb-7a33a1e5e169",
   "metadata": {},
   "source": [
    "### XGBoost classificador\n",
    "\n",
    "Aqui foi treinado o classificador do XGBoost. Algumas configurações foram testadas, mas a acurácia ficava entre 50-60%. Esse é um modelo que, diferentemente da regressão linear, é um classficador em árvore de descisão. "
   ]
  },
  {
   "cell_type": "code",
   "execution_count": 14,
   "id": "4861085b-da06-42d4-90c0-64e55c41f513",
   "metadata": {},
   "outputs": [
    {
     "name": "stderr",
     "output_type": "stream",
     "text": [
      "/home/jps12/.local/lib/python3.8/site-packages/xgboost/sklearn.py:1146: UserWarning: The use of label encoder in XGBClassifier is deprecated and will be removed in a future release. To remove this warning, do the following: 1) Pass option use_label_encoder=False when constructing XGBClassifier object; and 2) Encode your labels (y) as integers starting with 0, i.e. 0, 1, 2, ..., [num_class - 1].\n",
      "  warnings.warn(label_encoder_deprecation_msg, UserWarning)\n"
     ]
    },
    {
     "name": "stdout",
     "output_type": "stream",
     "text": [
      "[01:23:11] WARNING: ../src/learner.cc:573: \n",
      "Parameters: { \"params\" } might not be used.\n",
      "\n",
      "  This may not be accurate due to some parameters are only used in language bindings but\n",
      "  passed down to XGBoost core.  Or some parameters are not used but slip through this\n",
      "  verification. Please open an issue if you find above cases.\n",
      "\n",
      "\n",
      "[01:23:20] WARNING: ../src/learner.cc:1095: Starting in XGBoost 1.3.0, the default evaluation metric used with the objective 'binary:logistic' was changed from 'error' to 'logloss'. Explicitly set eval_metric if you'd like to restore the old behavior.\n",
      "Acurácia: 54.15154794045656%\n"
     ]
    },
    {
     "data": {
      "text/plain": [
       "<AxesSubplot:title={'center':'Normalized Confusion Matrix'}, xlabel='Predicted label', ylabel='True label'>"
      ]
     },
     "execution_count": 14,
     "metadata": {},
     "output_type": "execute_result"
    },
    {
     "data": {
      "image/png": "[encoded data removed]",
      "text/plain": [
       "<Figure size 432x288 with 2 Axes>"
      ]
     },
     "metadata": {
      "needs_background": "light"
     },
     "output_type": "display_data"
    }
   ],
   "source": [
    "# XGBoost Classifier\n",
    "params = {\"objective\":\"reg:logistic\",'colsample_bytree': 0.3,'learning_rate': 0.1,\n",
    "                'max_depth': 5, 'alpha': 10}\n",
    "\n",
    "model = xgb.XGBClassifier(params=params)\n",
    "model.fit(Xtrain, Ytrain)\n",
    "\n",
    "Ypred = model.predict(Xtest)\n",
    "\n",
    "accuracy = accuracy_score(Ytest, Ypred)\n",
    "print(f'Acurácia: {accuracy*100}%')\n",
    "\n",
    "# Imprimir matriz de confusão\n",
    "\n",
    "skplt.metrics.plot_confusion_matrix(Ytest, Ypred, normalize=True)"
   ]
  },
  {
   "cell_type": "code",
   "execution_count": null,
   "id": "c2c9d321-6ba7-4e9e-89b0-dab89e75939e",
   "metadata": {},
   "outputs": [],
   "source": []
  },
  {
   "cell_type": "code",
   "execution_count": null,
   "id": "e858c06b-deda-479e-860e-ab6a93b93c29",
   "metadata": {},
   "outputs": [],
   "source": []
  }
 ],
 "metadata": {
  "kernelspec": {
   "display_name": "Python 3 (ipykernel)",
   "language": "python",
   "name": "python3"
  },
  "language_info": {
   "codemirror_mode": {
    "name": "ipython",
    "version": 3
   },
   "file_extension": ".py",
   "mimetype": "text/x-python",
   "name": "python",
   "nbconvert_exporter": "python",
   "pygments_lexer": "ipython3",
   "version": "3.8.10"
  },
  "toc-autonumbering": true,
  "toc-showcode": true
 },
 "nbformat": 4,
 "nbformat_minor": 5
}
